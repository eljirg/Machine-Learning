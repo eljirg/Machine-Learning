{
 "cells": [
  {
   "cell_type": "code",
   "execution_count": 1,
   "metadata": {},
   "outputs": [
    {
     "data": {
      "text/html": [
       "<style>.container { width:80% !important; }</style>"
      ],
      "text/plain": [
       "<IPython.core.display.HTML object>"
      ]
     },
     "metadata": {},
     "output_type": "display_data"
    },
    {
     "name": "stdout",
     "output_type": "stream",
     "text": [
      "author: eljirg \n",
      "last updated: Tue Feb 12 2019 23:47:02 Tokyo Standard Time\n"
     ]
    }
   ],
   "source": [
    "from IPython.core.display import display, HTML\n",
    "display(HTML(\"<style>.container { width:80% !important; }</style>\"))\n",
    "%load_ext watermark\n",
    "%watermark -a \"author: eljirg\" -u -n -t -z"
   ]
  },
  {
   "cell_type": "markdown",
   "metadata": {},
   "source": [
    "# Activation Functions - Keras and Pytorch\n",
    "\n",
    "A note regarding `activation function` implementation in `keras`"
   ]
  },
  {
   "cell_type": "markdown",
   "metadata": {},
   "source": [
    "## Why we need activation functions?\n",
    "\n",
    "Without activation function, Fully connected layers and convolution layers are just linear functions. Having two or more layers of linear functions stack over is pointless since the result can be obtained by using only one linear layer\n",
    "\n",
    "---\n",
    "f<sub>1</sub>(x) = a<sub>1</sub>x + b<sub>1</sub>\n",
    "\n",
    "f<sub>2</sub>(x) = a<sub>2</sub>x + b<sub>2</sub>\n",
    "\n",
    "\n",
    "---\n",
    "f<sub>1</sub>(f<sub>2</sub>(x)) = a<sub>1</sub>(a<sub>2</sub>x+b<sub>2</sub>) + b<sub>1</sub>\n",
    "\n",
    "f<sub>1</sub>(f<sub>2</sub>(x)) = (a<sub>1</sub>a<sub>2</sub>)x + (a<sub>1</sub>b<sub>2</sub> + b<sub>1</sub>)\n",
    "\n",
    "---\n",
    "\n",
    "f<sub>1</sub>(f<sub>2</sub>(x)) = a<sub>3</sub>x + b<sub>3</sub>\n",
    "\n",
    "a<sub>3</sub> = a<sub>1</sub>a<sub>2</sub>,\n",
    "\n",
    "b<sub>3</sub> = a<sub>1</sub>b<sub>2</sub> + b<sub>1</sub>\n",
    "\n",
    "---\n",
    "\n",
    "Activation functions:\n",
    "- Tanh\n",
    "- Sigmoid\n",
    "- Softmax\n",
    "- ReLU\n",
    "- Leaky ReLU\n",
    "- Custom activation (e.g. x2)\n"
   ]
  },
  {
   "cell_type": "code",
   "execution_count": null,
   "metadata": {},
   "outputs": [],
   "source": []
  },
  {
   "cell_type": "code",
   "execution_count": null,
   "metadata": {},
   "outputs": [],
   "source": []
  },
  {
   "cell_type": "code",
   "execution_count": null,
   "metadata": {},
   "outputs": [],
   "source": []
  },
  {
   "cell_type": "markdown",
   "metadata": {},
   "source": [
    "## Imports"
   ]
  },
  {
   "cell_type": "code",
   "execution_count": 5,
   "metadata": {},
   "outputs": [],
   "source": [
    "%matplotlib inline\n",
    "\n",
    "import os, sys, time, tqdm\n",
    "\n",
    "import numpy as np\n",
    "import pandas as pd\n",
    "import matplotlib.pyplot as plt\n",
    "from sklearn import datasets, linear_model\n",
    "from sklearn.model_selection import train_test_split\n",
    "\n",
    "from sklearn.datasets import load_boston\n"
   ]
  },
  {
   "cell_type": "code",
   "execution_count": null,
   "metadata": {},
   "outputs": [],
   "source": []
  },
  {
   "cell_type": "code",
   "execution_count": null,
   "metadata": {},
   "outputs": [],
   "source": []
  },
  {
   "cell_type": "code",
   "execution_count": 6,
   "metadata": {},
   "outputs": [
    {
     "name": "stdout",
     "output_type": "stream",
     "text": [
      "numpy 1.15.4\n",
      "\n"
     ]
    }
   ],
   "source": [
    "%watermark -iv"
   ]
  },
  {
   "cell_type": "code",
   "execution_count": null,
   "metadata": {},
   "outputs": [],
   "source": []
  }
 ],
 "metadata": {
  "kernelspec": {
   "display_name": "Python 3",
   "language": "python",
   "name": "python3"
  },
  "language_info": {
   "codemirror_mode": {
    "name": "ipython",
    "version": 3
   },
   "file_extension": ".py",
   "mimetype": "text/x-python",
   "name": "python",
   "nbconvert_exporter": "python",
   "pygments_lexer": "ipython3",
   "version": "3.7.1"
  }
 },
 "nbformat": 4,
 "nbformat_minor": 2
}
